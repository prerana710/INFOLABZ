{
 "cells": [
  {
   "cell_type": "markdown",
   "metadata": {},
   "source": [
    "**3 August 2023**"
   ]
  },
  {
   "cell_type": "code",
   "execution_count": 17,
   "metadata": {},
   "outputs": [
    {
     "name": "stdout",
     "output_type": "stream",
     "text": [
      "   SRNO BRANCH    NAME  TOTAL  PERCENTAGE  PASSFAIL\n",
      "0     1     CE  RAMESH    210          70         1\n",
      "1     2     CE  SURESH    150          50         1\n",
      "2     3     IT  MAHESH    225          75         1\n",
      "3     4     IT  NARESH    180          60         1\n",
      "4     5     CE  JAYESH     90          30         0\n",
      "0     1     EC   RATAN    150          50         1\n",
      "1     2     CE   JATAN    270          90         1\n",
      "2     3     IT  KATHAN    285          95         1\n",
      "3     4     EC   NAYAN    195          65         1\n",
      "4     5     IT   RAMAN    165          55         1\n",
      "====================================\n",
      "DATA WITH TOTAL GREATER THAN 200:\n",
      "   SRNO BRANCH    NAME  TOTAL  PERCENTAGE  PASSFAIL\n",
      "0     1     CE  RAMESH    210          70         1\n",
      "2     3     IT  MAHESH    225          75         1\n",
      "1     2     CE   JATAN    270          90         1\n",
      "2     3     IT  KATHAN    285          95         1\n"
     ]
    }
   ],
   "source": [
    "# TASK 1: Print all data with total greater than 200\n",
    "\n",
    "import pandas as pd\n",
    "\n",
    "file1data = pd.read_excel(\"RESULT1.xlsx\")\n",
    "file2data = pd.read_excel(\"RESULT2.xlsx\")\n",
    "alldata = pd.concat([file1data, file2data])\n",
    "print(alldata)\n",
    "\n",
    "print('====================================')\n",
    "print('DATA WITH TOTAL GREATER THAN 200:')\n",
    "\n",
    "new_data = alldata[alldata['TOTAL'] > 200]\n",
    "print(new_data)"
   ]
  },
  {
   "cell_type": "markdown",
   "metadata": {},
   "source": [
    "**TASK 2:** Create 1 column 'CATEGORY' and store result.csv file as below:\n",
    "- 80-100 : SCHOLER\n",
    "- 50-79 : AVERAGE\n",
    "- BELOW 50: WEAK"
   ]
  },
  {
   "cell_type": "code",
   "execution_count": 27,
   "metadata": {},
   "outputs": [
    {
     "name": "stdout",
     "output_type": "stream",
     "text": [
      "   SRNO BRANCH    NAME  TOTAL  PERCENTAGE  PASSFAIL CATEGORY\n",
      "0     1     CE  RAMESH    210          70         1  AVERAGE\n",
      "1     2     CE  SURESH    150          50         1  AVERAGE\n",
      "2     3     IT  MAHESH    225          75         1  AVERAGE\n",
      "3     4     IT  NARESH    180          60         1  AVERAGE\n",
      "4     5     CE  JAYESH     90          30         0     WEAK\n",
      "0     1     EC   RATAN    150          50         1  AVERAGE\n",
      "1     2     CE   JATAN    270          90         1  SCHOLAR\n",
      "2     3     IT  KATHAN    285          95         1  SCHOLAR\n",
      "3     4     EC   NAYAN    195          65         1  AVERAGE\n",
      "4     5     IT   RAMAN    165          55         1  AVERAGE\n"
     ]
    }
   ],
   "source": [
    "import pandas as pd\n",
    "\n",
    "file1data = pd.read_excel(\"RESULT1.xlsx\")\n",
    "file2data = pd.read_excel(\"RESULT2.xlsx\")\n",
    "alldata = pd.concat([file1data, file2data])\n",
    "\n",
    "def fun(percentage):\n",
    "    if 80 <= percentage <= 100:\n",
    "        return 'SCHOLAR'\n",
    "    elif 50 <= percentage <= 79:\n",
    "        return 'AVERAGE'\n",
    "    else:\n",
    "        return 'WEAK'\n",
    "\n",
    "alldata['CATEGORY'] = alldata['PERCENTAGE'].apply(fun)\n",
    "print(alldata)\n",
    "\n",
    "alldata.to_csv('result.csv') # Save the DataFrame to a new CSV file"
   ]
  }
 ],
 "metadata": {
  "kernelspec": {
   "display_name": "Python 3",
   "language": "python",
   "name": "python3"
  },
  "language_info": {
   "codemirror_mode": {
    "name": "ipython",
    "version": 3
   },
   "file_extension": ".py",
   "mimetype": "text/x-python",
   "name": "python",
   "nbconvert_exporter": "python",
   "pygments_lexer": "ipython3",
   "version": "3.10.4"
  },
  "orig_nbformat": 4
 },
 "nbformat": 4,
 "nbformat_minor": 2
}
