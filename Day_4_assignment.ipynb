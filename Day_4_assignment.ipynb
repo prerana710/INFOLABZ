{
 "cells": [
  {
   "cell_type": "markdown",
   "metadata": {},
   "source": [
    "**1 August 2023**"
   ]
  },
  {
   "cell_type": "code",
   "execution_count": 29,
   "metadata": {},
   "outputs": [
    {
     "name": "stdout",
     "output_type": "stream",
     "text": [
      "Player Found: HARDIK\n",
      "Total matches: 14\n",
      "Total Score: 453.0\n",
      "Highest Score: 87.0\n",
      "Lowest Score: 1.0\n",
      "Average Score: 32.357142857142854\n"
     ]
    }
   ],
   "source": [
    "# Allow user to insert player name, Print total, High score, Low score and Average score (can use any library)\n",
    "\n",
    "import xlrd \n",
    "\n",
    "xlrd.xlsx.ensure_elementtree_imported(False, None)\n",
    "xlrd.xlsx.Element_has_iter = True\n",
    "\n",
    "wb = xlrd.open_workbook(\"IPL.xlsx\")\n",
    "sheet = wb.sheet_by_index(0)\n",
    "\n",
    "userinput = input(\"Enter Player name: \")\n",
    "total_score = 0\n",
    "scores = []\n",
    "\n",
    "for i in range(1, sheet.ncols):\n",
    "        if userinput == sheet.cell_value(0, i):\n",
    "            player_found = True\n",
    "            for j in range(1, sheet.nrows):\n",
    "                score = sheet.cell_value(j, i)\n",
    "                total_score += score\n",
    "                scores.append(score)\n",
    "            print(\"Player Found:\", userinput)\n",
    "            print(\"Total matches:\", len(scores))\n",
    "            print(\"Total Score:\", total_score)\n",
    "            print(\"Highest Score:\", max(scores))\n",
    "            print(\"Lowest Score:\", min(scores))\n",
    "            print(\"Average Score:\", total_score / len(scores))\n",
    "            break\n",
    "else:\n",
    "    print(userinput + \": Player not found\")"
   ]
  },
  {
   "cell_type": "code",
   "execution_count": 5,
   "metadata": {},
   "outputs": [
    {
     "name": "stdout",
     "output_type": "stream",
     "text": [
      "Match Found: 7\n",
      "High score: 116.0\n",
      "Player name: BUTTLER\n",
      "The high score for Match 7 is 116.0, scored by BUTTLER.\n"
     ]
    }
   ],
   "source": [
    "# Enter match number, Print highscore along with player name\n",
    "\n",
    "import xlrd \n",
    "\n",
    "xlrd.xlsx.ensure_elementtree_imported(False, None)\n",
    "xlrd.xlsx.Element_has_iter = True\n",
    "\n",
    "wb = xlrd.open_workbook(\"IPL.xlsx\")\n",
    "sheet = wb.sheet_by_index(0)\n",
    "\n",
    "user_input_match = int(input(\"Enter Match number: \"))\n",
    "high_score = 0\n",
    "player_name = \"\"\n",
    "\n",
    "for i in range(0, sheet.nrows):\n",
    "        if user_input_match == sheet.cell_value(i, 0):\n",
    "            for j in range(1, sheet.ncols):\n",
    "                score = sheet.cell_value(i, j)\n",
    "                if score > high_score:\n",
    "                    high_score = score\n",
    "                    player_name = sheet.cell_value(0, j)\n",
    "            print(\"Match Found:\", user_input_match)\n",
    "            print(\"High score:\", high_score)\n",
    "            print(\"Player name:\", player_name)\n",
    "\n",
    "if high_score == 0:\n",
    "    print(f\"No data found for Match {user_input_match}.\")\n",
    "else:\n",
    "    print(f\"The high score for Match {user_input_match} is {high_score}, scored by {player_name}.\")"
   ]
  },
  {
   "cell_type": "code",
   "execution_count": 23,
   "metadata": {},
   "outputs": [
    {
     "name": "stdout",
     "output_type": "stream",
     "text": [
      "The score is 87 in match 5.0, scored by HARDIK.\n"
     ]
    }
   ],
   "source": [
    "# In which match DHAWAN SCORED 101 ? => match number\n",
    "\n",
    "import xlrd \n",
    "\n",
    "xlrd.xlsx.ensure_elementtree_imported(False, None)\n",
    "xlrd.xlsx.Element_has_iter = True\n",
    "\n",
    "wb = xlrd.open_workbook(\"IPL.xlsx\")\n",
    "sheet = wb.sheet_by_index(0)\n",
    "\n",
    "user_score = int(input(\"Enter Score: \"))\n",
    "match = 0\n",
    "player_name = \"\"\n",
    "\n",
    "for i in range(1, sheet.nrows):\n",
    "    for j in range(1, sheet.ncols):\n",
    "        if user_score == sheet.cell_value(i, j):\n",
    "            score = sheet.cell_value(i, j)\n",
    "            match = sheet.cell_value(i, 0)\n",
    "            player_name = sheet.cell_value(0, j)\n",
    "            break  \n",
    "        \n",
    "if match == 0:\n",
    "    print(f\"No data found for Score {user_score}.\")\n",
    "else:\n",
    "    print(f\"The score is {user_score} in match {match}, scored by {player_name}.\")"
   ]
  },
  {
   "cell_type": "code",
   "execution_count": 11,
   "metadata": {},
   "outputs": [
    {
     "name": "stdout",
     "output_type": "stream",
     "text": [
      "Player Found: HARDIK\n",
      "Scores: [33.0, 31.0, 27.0, 50.0, 87.0, 67.0, 10.0, 3.0, 1.0, 24.0, 11.0, 7.0, 62.0, 40.0]\n",
      "Matches: [1.0, 2.0, 3.0, 4.0, 5.0, 6.0, 7.0, 8.0, 9.0, 10.0, 11.0, 12.0, 13.0, 14.0]\n"
     ]
    },
    {
     "data": {
      "image/png": "[encoded data removed]",
      "text/plain": [
       "<Figure size 432x288 with 1 Axes>"
      ]
     },
     "metadata": {
      "needs_background": "light"
     },
     "output_type": "display_data"
    }
   ],
   "source": [
    "# Enter player name, Print bar graph of matches score\n",
    "\n",
    "import xlrd \n",
    "from matplotlib import pyplot as plt\n",
    "\n",
    "xlrd.xlsx.ensure_elementtree_imported(False, None)\n",
    "xlrd.xlsx.Element_has_iter = True\n",
    "\n",
    "wb = xlrd.open_workbook(\"IPL.xlsx\")\n",
    "sheet = wb.sheet_by_index(0)\n",
    "\n",
    "userinput = input(\"Enter Player name: \")\n",
    "total_score = 0\n",
    "scores = []\n",
    "matches = []\n",
    "\n",
    "for i in range(1, sheet.ncols):\n",
    "        if userinput == sheet.cell_value(0, i):\n",
    "            player_found = True\n",
    "            for j in range(1, sheet.nrows):\n",
    "                score = sheet.cell_value(j, i)\n",
    "                total_score += score\n",
    "                scores.append(score)\n",
    "                match = sheet.cell_value(j, 0)\n",
    "                matches.append(match)\n",
    "            print(\"Player Found:\", userinput)\n",
    "            print(\"Scores:\", scores)\n",
    "            print(\"Matches:\", matches)\n",
    "            plt.bar(matches, scores, color='b')\n",
    "            plt.xlabel('Matches')\n",
    "            plt.ylabel('Scores')\n",
    "            plt.title(userinput + ' scorses')\n",
    "            plt.show()\n",
    "            break\n",
    "else:\n",
    "    print(userinput + \": Player not found\")"
   ]
  }
 ],
 "metadata": {
  "kernelspec": {
   "display_name": "Python 3",
   "language": "python",
   "name": "python3"
  },
  "language_info": {
   "codemirror_mode": {
    "name": "ipython",
    "version": 3
   },
   "file_extension": ".py",
   "mimetype": "text/x-python",
   "name": "python",
   "nbconvert_exporter": "python",
   "pygments_lexer": "ipython3",
   "version": "3.10.4"
  },
  "orig_nbformat": 4
 },
 "nbformat": 4,
 "nbformat_minor": 2
}
