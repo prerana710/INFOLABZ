{
 "cells": [
  {
   "cell_type": "markdown",
   "metadata": {},
   "source": [
    "**1 August 2023**"
   ]
  },
  {
   "cell_type": "markdown",
   "metadata": {},
   "source": [
    "API DATA --> VARIABLE --> GRAPH & CHARTS"
   ]
  },
  {
   "cell_type": "code",
   "execution_count": 3,
   "metadata": {},
   "outputs": [
    {
     "data": {
      "image/png": "[encoded data removed]",
      "text/plain": [
       "<Figure size 432x288 with 1 Axes>"
      ]
     },
     "metadata": {},
     "output_type": "display_data"
    }
   ],
   "source": [
    "from matplotlib import pyplot as plt\n",
    "\n",
    "branches = ['CE', 'IT', 'CS', 'EC', 'CIVIL', 'AUTO']\n",
    "seats = [200,175,130,15,40,18]\n",
    "\n",
    "plt.pie(seats, labels=branches, shadow=True, autopct=\"%1.0f%%\", \n",
    "        explode=(0.2,0,0,0,0,0))\n",
    "plt.show()"
   ]
  },
  {
   "cell_type": "markdown",
   "metadata": {},
   "source": [
    "<h1> <center>Data Analysis "
   ]
  },
  {
   "cell_type": "code",
   "execution_count": 9,
   "metadata": {},
   "outputs": [
    {
     "name": "stdout",
     "output_type": "stream",
     "text": [
      "Requirement already satisfied: xlrd==1.2.0 in c:\\users\\dell\\appdata\\local\\programs\\python\\python310\\lib\\site-packages (1.2.0)\n",
      "Note: you may need to restart the kernel to use updated packages.\n"
     ]
    }
   ],
   "source": [
    "pip install xlrd==1.2.0"
   ]
  },
  {
   "cell_type": "code",
   "execution_count": 2,
   "metadata": {},
   "outputs": [
    {
     "name": "stdout",
     "output_type": "stream",
     "text": [
      "CRICKET\n",
      "RAHUL\n",
      "71.0\n",
      "Total number of Rows: 15\n",
      "Total number of Columns: 6\n",
      "Total number of Matches: 14\n",
      "Players:\n",
      "BUTTLER\n",
      "RAHUL\n",
      "DEKOCK\n",
      "HARDIK\n",
      "MILLER\n"
     ]
    }
   ],
   "source": [
    "import xlrd \n",
    "\n",
    "xlrd.xlsx.ensure_elementtree_imported(False, None)\n",
    "xlrd.xlsx.Element_has_iter = True\n",
    "\n",
    "loc = (\"IPL.xlsx\")\n",
    "wb = xlrd.open_workbook(loc)\n",
    "sheet = wb.sheet_by_index(0)\n",
    "\n",
    "print(sheet.cell_value(0,0))\n",
    "print(sheet.cell_value(0,2))\n",
    "print(sheet.cell_value(3,1))\n",
    "\n",
    "print(\"Total number of Rows:\", sheet.nrows)\n",
    "print(\"Total number of Columns:\", sheet.ncols)\n",
    "print(\"Total number of Matches:\", sheet.nrows-1)\n",
    "\n",
    "print(\"Players:\")\n",
    "for i in range(1, sheet.ncols):\n",
    "    print(sheet.cell_value(0,i))"
   ]
  },
  {
   "cell_type": "code",
   "execution_count": 10,
   "metadata": {},
   "outputs": [
    {
     "name": "stdout",
     "output_type": "stream",
     "text": [
      "RAHUL: PLayer Found\n"
     ]
    }
   ],
   "source": [
    "userinput = input(\"Enter player name: \")\n",
    "for i in range(1, sheet.ncols):\n",
    "    if userinput == sheet.cell_value(0,i):\n",
    "        print(userinput + \": PLayer Found\")\n",
    "        break\n",
    "else:\n",
    "    print(userinput + \": Player not found\")"
   ]
  },
  {
   "cell_type": "code",
   "execution_count": 5,
   "metadata": {},
   "outputs": [],
   "source": [
    "# Find the player and print the data of all matches\n",
    "\n",
    "userinput = input(\"Enter Player Name: \")\n",
    "for i in range(1, sheet.ncols):\n",
    "    if userinput == sheet.cell_value(0,i):\n",
    "        for j in range(1, sheet.nrows):\n",
    "            print(sheet.cell_value(j,i))\n",
    "    break\n",
    "else:\n",
    "    print(userinput + \": Player not found\")   "
   ]
  },
  {
   "cell_type": "code",
   "execution_count": 11,
   "metadata": {},
   "outputs": [
    {
     "name": "stdout",
     "output_type": "stream",
     "text": [
      "Match: 1.0\n",
      "Score of BUTTLER is 35.0\n",
      "Score of RAHUL is 0.0\n",
      "Score of DEKOCK is 7.0\n",
      "Score of HARDIK is 33.0\n",
      "Score of MILLER is 30.0\n",
      "Match: 2.0\n",
      "Score of BUTTLER is 100.0\n",
      "Score of RAHUL is 40.0\n",
      "Score of DEKOCK is 61.0\n",
      "Score of HARDIK is 31.0\n",
      "Score of MILLER is 20.0\n",
      "Match: 3.0\n",
      "Score of BUTTLER is 71.0\n",
      "Score of RAHUL is 68.0\n",
      "Score of DEKOCK is 1.0\n",
      "Score of HARDIK is 27.0\n",
      "Score of MILLER is 6.0\n",
      "Match: 4.0\n",
      "Score of BUTTLER is 12.0\n",
      "Score of RAHUL is 24.0\n",
      "Score of DEKOCK is 80.0\n",
      "Score of HARDIK is 50.0\n",
      "Score of MILLER is 12.0\n",
      "Match: 5.0\n",
      "Score of BUTTLER is 54.0\n",
      "Score of RAHUL is 0.0\n",
      "Score of DEKOCK is 39.0\n",
      "Score of HARDIK is 87.0\n",
      "Score of MILLER is 31.0\n",
      "Match: 6.0\n",
      "Score of BUTTLER is 103.0\n",
      "Score of RAHUL is 103.0\n",
      "Score of DEKOCK is 24.0\n",
      "Score of HARDIK is 67.0\n",
      "Score of MILLER is 94.0\n",
      "Match: 7.0\n",
      "Score of BUTTLER is 116.0\n",
      "Score of RAHUL is 30.0\n",
      "Score of DEKOCK is 3.0\n",
      "Score of HARDIK is 10.0\n",
      "Score of MILLER is 27.0\n",
      "Match: 8.0\n",
      "Score of BUTTLER is 8.0\n",
      "Score of RAHUL is 103.0\n",
      "Score of DEKOCK is 10.0\n",
      "Score of HARDIK is 3.0\n",
      "Score of MILLER is 17.0\n",
      "Match: 9.0\n",
      "Score of BUTTLER is 67.0\n",
      "Score of RAHUL is 6.0\n",
      "Score of DEKOCK is 46.0\n",
      "Score of HARDIK is 1.0\n",
      "Score of MILLER is 39.0\n",
      "Match: 10.0\n",
      "Score of BUTTLER is 22.0\n",
      "Score of RAHUL is 77.0\n",
      "Score of DEKOCK is 23.0\n",
      "Score of HARDIK is 24.0\n",
      "Score of MILLER is 11.0\n",
      "Match: 11.0\n",
      "Score of BUTTLER is 30.0\n",
      "Score of RAHUL is 0.0\n",
      "Score of DEKOCK is 50.0\n",
      "Score of HARDIK is 11.0\n",
      "Score of MILLER is 19.0\n",
      "Match: 12.0\n",
      "Score of BUTTLER is 7.0\n",
      "Score of RAHUL is 8.0\n",
      "Score of DEKOCK is 11.0\n",
      "Score of HARDIK is 7.0\n",
      "Score of MILLER is 26.0\n",
      "Match: 13.0\n",
      "Score of BUTTLER is 2.0\n",
      "Score of RAHUL is 10.0\n",
      "Score of DEKOCK is 7.0\n",
      "Score of HARDIK is 62.0\n",
      "Score of MILLER is 15.0\n",
      "Match: 14.0\n",
      "Score of BUTTLER is 2.0\n",
      "Score of RAHUL is 68.0\n",
      "Score of DEKOCK is 140.0\n",
      "Score of HARDIK is 40.0\n",
      "Score of MILLER is 34.0\n"
     ]
    }
   ],
   "source": [
    "for i in range(1, sheet.nrows):\n",
    "    print('Match:', sheet.cell_value(i,0))\n",
    "    for j in range(1, sheet.ncols):\n",
    "        print(\"Score of\", sheet.cell_value(0,j), \"is\", sheet.cell_value(i,j))"
   ]
  }
 ],
 "metadata": {
  "kernelspec": {
   "display_name": "Python 3",
   "language": "python",
   "name": "python3"
  },
  "language_info": {
   "codemirror_mode": {
    "name": "ipython",
    "version": 3
   },
   "file_extension": ".py",
   "mimetype": "text/x-python",
   "name": "python",
   "nbconvert_exporter": "python",
   "pygments_lexer": "ipython3",
   "version": "3.10.4"
  },
  "orig_nbformat": 4
 },
 "nbformat": 4,
 "nbformat_minor": 2
}
