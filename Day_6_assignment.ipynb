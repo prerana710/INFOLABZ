{
 "cells": [
  {
   "cell_type": "markdown",
   "metadata": {},
   "source": [
    "**4 August 2023**"
   ]
  },
  {
   "cell_type": "code",
   "execution_count": 3,
   "metadata": {},
   "outputs": [
    {
     "name": "stdout",
     "output_type": "stream",
     "text": [
      "   area     price\n",
      "0   800   5180000\n",
      "1  1100   7190000\n",
      "2  1500   9820000\n",
      "3  1800  12100000\n",
      "4  2200  14900000\n"
     ]
    },
    {
     "data": {
      "image/png": "[encoded data removed]",
      "text/plain": [
       "<Figure size 432x288 with 1 Axes>"
      ]
     },
     "metadata": {
      "needs_background": "light"
     },
     "output_type": "display_data"
    }
   ],
   "source": [
    "# Plotting a line on the data points\n",
    "\n",
    "import pandas as pd \n",
    "from matplotlib import pyplot as plt \n",
    "from sklearn import linear_model\n",
    "\n",
    "df = pd.read_csv('Prices.csv')\n",
    "print(df)\n",
    "\n",
    "# y = b0 + (b1*x)\n",
    "plt.scatter(df.area, df.price, color=\"r\")   \n",
    "plt.plot(df.area, df.price, color=\"b\")\n",
    "plt.xlabel('Area')   # Area = Independent = x\n",
    "plt.ylabel('Price')   # Price = Dependent = y\n",
    "plt.show()"
   ]
  },
  {
   "cell_type": "code",
   "execution_count": 12,
   "metadata": {},
   "outputs": [
    {
     "name": "stdout",
     "output_type": "stream",
     "text": [
      "    YearsExperience    Salary\n",
      "0               1.1   39343.0\n",
      "1               1.3   46205.0\n",
      "2               1.5   37731.0\n",
      "3               2.0   43525.0\n",
      "4               2.2   39891.0\n",
      "5               2.9   56642.0\n",
      "6               3.0   60150.0\n",
      "7               3.2   54445.0\n",
      "8               3.2   64445.0\n",
      "9               3.7   57189.0\n",
      "10              3.9   63218.0\n",
      "11              4.0   55794.0\n",
      "12              4.0   56957.0\n",
      "13              4.1   57081.0\n",
      "14              4.5   61111.0\n",
      "15              4.9   67938.0\n",
      "16              5.1   66029.0\n",
      "17              5.3   83088.0\n",
      "18              5.9   81363.0\n",
      "19              6.0   93940.0\n",
      "20              6.8   91738.0\n",
      "21              7.1   98273.0\n",
      "22              7.9  101302.0\n",
      "23              8.2  113812.0\n",
      "24              8.7  109431.0\n",
      "25              9.0  105582.0\n",
      "26              9.5  116969.0\n",
      "27              9.6  112635.0\n",
      "28             10.3  122391.0\n",
      "29             10.5  121872.0\n"
     ]
    },
    {
     "data": {
      "image/png": "[encoded data removed]",
      "text/plain": [
       "<Figure size 432x288 with 1 Axes>"
      ]
     },
     "metadata": {
      "needs_background": "light"
     },
     "output_type": "display_data"
    },
    {
     "name": "stdout",
     "output_type": "stream",
     "text": [
      "Salary (y): [[73042.01180594]]\n",
      "Coefficient (b1): [[9449.96232146]]\n",
      "Intercept (b0): [25792.20019867]\n"
     ]
    },
    {
     "name": "stderr",
     "output_type": "stream",
     "text": [
      "c:\\Users\\Dell\\AppData\\Local\\Programs\\Python\\Python310\\lib\\site-packages\\sklearn\\base.py:464: UserWarning: X does not have valid feature names, but LinearRegression was fitted with feature names\n",
      "  warnings.warn(\n"
     ]
    }
   ],
   "source": [
    "# From the actual dataset create Linear Regression model\n",
    "\n",
    "import pandas as pd \n",
    "from matplotlib import pyplot as plt \n",
    "from sklearn import linear_model\n",
    "\n",
    "df = pd.read_csv('Salary_Data.csv')\n",
    "print(df)\n",
    "\n",
    "# y = b0 + (b1*x)\n",
    "\n",
    "plt.scatter(df.YearsExperience, df.Salary, color=\"r\")\n",
    "plt.plot(df.YearsExperience, df.Salary, color=\"b\")\n",
    "plt.xlabel('YearsExperience')   # YearsExperience = Independent = x\n",
    "plt.ylabel('Salary')   # Salary = Dependent = y \n",
    "plt.show()\n",
    "\n",
    "reg = linear_model.LinearRegression()  # Process model\n",
    "reg.fit(df[['YearsExperience']], df[['Salary']])  # Train model\n",
    "\n",
    "print(\"Salary (y):\", reg.predict([[5]]))  # x = 5 (YearsExperience)\n",
    "\n",
    "print(\"Coefficient (b1):\", reg.coef_)  \n",
    "print(\"Intercept (b0):\", reg.intercept_)  "
   ]
  }
 ],
 "metadata": {
  "kernelspec": {
   "display_name": "Python 3",
   "language": "python",
   "name": "python3"
  },
  "language_info": {
   "codemirror_mode": {
    "name": "ipython",
    "version": 3
   },
   "file_extension": ".py",
   "mimetype": "text/x-python",
   "name": "python",
   "nbconvert_exporter": "python",
   "pygments_lexer": "ipython3",
   "version": "3.10.4"
  },
  "orig_nbformat": 4
 },
 "nbformat": 4,
 "nbformat_minor": 2
}
