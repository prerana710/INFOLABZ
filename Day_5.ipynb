{
 "cells": [
  {
   "cell_type": "markdown",
   "metadata": {},
   "source": [
    "**3 August 2023**"
   ]
  },
  {
   "cell_type": "markdown",
   "metadata": {},
   "source": [
    "<h1> <center> PANDAS DATAFRAME"
   ]
  },
  {
   "cell_type": "code",
   "execution_count": 2,
   "metadata": {},
   "outputs": [
    {
     "name": "stdout",
     "output_type": "stream",
     "text": [
      "    0\n",
      "0  15\n",
      "1  25\n",
      "2  35\n",
      "    0\n",
      "0  10\n",
      "1  25\n",
      "2  35\n",
      "    a   b   c\n",
      "0  30  40  50\n",
      "1  20  10   0\n"
     ]
    }
   ],
   "source": [
    "import pandas as pd \n",
    "\n",
    "# List\n",
    "mydata = [15,25,35] \n",
    "pddata = pd.DataFrame(mydata)\n",
    "print(pddata)\n",
    "\n",
    "# Tuple\n",
    "mydata = (10,25,35)\n",
    "pddata = pd.DataFrame(mydata)\n",
    "print(pddata)\n",
    "\n",
    "# Dictionary\n",
    "mydata = {\"a\":[30,20], \"b\":[40,10],\"c\":[50,0]}\n",
    "pddata = pd.DataFrame(mydata)\n",
    "print(pddata)"
   ]
  },
  {
   "cell_type": "code",
   "execution_count": 5,
   "metadata": {},
   "outputs": [
    {
     "name": "stdout",
     "output_type": "stream",
     "text": [
      "     NAME     TYPE  SCORE\n",
      "0   ROHIT  BATSMAN     50\n",
      "1   KOHLI  BATSMAN     80\n",
      "2  BUMRAH   BOWLER     15\n",
      "KOHLI\n"
     ]
    }
   ],
   "source": [
    "import pandas as pd \n",
    "\n",
    "game = pd.DataFrame([['ROHIT', 'BATSMAN', 50], ['KOHLI', 'BATSMAN', 80], ['BUMRAH', 'BOWLER', 15]],\n",
    "                    columns = ['NAME', 'TYPE', 'SCORE'])\n",
    "\n",
    "print(game)\n",
    "print(game['NAME'][1]) # print KOHLI"
   ]
  },
  {
   "cell_type": "code",
   "execution_count": 10,
   "metadata": {},
   "outputs": [
    {
     "name": "stdout",
     "output_type": "stream",
     "text": [
      "         2020   2021   2022\n",
      "RAMESH   8000  10000  18000\n",
      "MAHESH  15000  18000  25000\n",
      "         2020   2021   2022   TOTAL\n",
      "RAMESH   8000  10000  18000  432000\n",
      "MAHESH  15000  18000  25000  696000\n",
      "         2020   2021   2022   TOTAL     2023\n",
      "RAMESH   8000  10000  18000  432000  23400.0\n",
      "MAHESH  15000  18000  25000  696000  32500.0\n"
     ]
    }
   ],
   "source": [
    "import numpy as np\n",
    "import pandas as pd \n",
    "\n",
    "data = np.array([[8000,10000,18000],[15000,18000,25000]])\n",
    "pdata = pd.DataFrame(data, index=['RAMESH','MAHESH'], columns=[2020,2021,2022])\n",
    "print(pdata)\n",
    "\n",
    "pdata['TOTAL'] = 12*(pdata[2020]+pdata[2021]+pdata[2022])\n",
    "print(pdata)\n",
    "\n",
    "pdata[2023] = pdata[2022] + (pdata[2022]*0.30)\n",
    "print(pdata)\n",
    "\n",
    "pdata.to_csv('filename.csv') # data stored to csv file"
   ]
  },
  {
   "cell_type": "markdown",
   "metadata": {},
   "source": [
    "<h1><center> PANDAS for READ EXCEL"
   ]
  },
  {
   "cell_type": "code",
   "execution_count": 12,
   "metadata": {},
   "outputs": [
    {
     "name": "stdout",
     "output_type": "stream",
     "text": [
      "Collecting openpyxl\n",
      "  Downloading openpyxl-3.1.2-py2.py3-none-any.whl (249 kB)\n",
      "     ------------------------------------ 250.0/250.0 kB 639.3 kB/s eta 0:00:00\n",
      "Collecting et-xmlfile (from openpyxl)\n",
      "  Downloading et_xmlfile-1.1.0-py3-none-any.whl (4.7 kB)\n",
      "Installing collected packages: et-xmlfile, openpyxl\n",
      "Successfully installed et-xmlfile-1.1.0 openpyxl-3.1.2\n",
      "Note: you may need to restart the kernel to use updated packages.\n"
     ]
    }
   ],
   "source": [
    "pip install openpyxl"
   ]
  },
  {
   "cell_type": "code",
   "execution_count": 14,
   "metadata": {},
   "outputs": [
    {
     "name": "stdout",
     "output_type": "stream",
     "text": [
      "   SRNO BRANCH    NAME  TOTAL  PERCENTAGE  PASSFAIL\n",
      "0     1     CE  RAMESH    210          70         1\n",
      "1     2     CE  SURESH    150          50         1\n",
      "2     3     IT  MAHESH    225          75         1\n",
      "3     4     IT  NARESH    180          60         1\n",
      "4     5     CE  JAYESH     90          30         0\n",
      "<class 'pandas.core.frame.DataFrame'>\n",
      "   SRNO BRANCH    NAME  TOTAL  PERCENTAGE  PASSFAIL\n",
      "0     1     EC   RATAN    150          50         1\n",
      "1     2     CE   JATAN    270          90         1\n",
      "2     3     IT  KATHAN    285          95         1\n",
      "3     4     EC   NAYAN    195          65         1\n",
      "4     5     IT   RAMAN    165          55         1\n"
     ]
    }
   ],
   "source": [
    "import pandas as pd\n",
    "import numpy as np\n",
    "from matplotlib import pyplot as plt \n",
    "\n",
    "file1data = pd.read_excel(\"RESULT1.xlsx\")\n",
    "print(file1data)\n",
    "print(type(file1data))\n",
    "\n",
    "file2data = pd.read_excel(\"RESULT2.xlsx\")\n",
    "print(file2data)"
   ]
  },
  {
   "cell_type": "code",
   "execution_count": 15,
   "metadata": {},
   "outputs": [
    {
     "name": "stdout",
     "output_type": "stream",
     "text": [
      "   SRNO BRANCH    NAME  TOTAL  PERCENTAGE  PASSFAIL\n",
      "0     1     CE  RAMESH    210          70         1\n",
      "1     2     CE  SURESH    150          50         1\n",
      "2     3     IT  MAHESH    225          75         1\n",
      "3     4     IT  NARESH    180          60         1\n",
      "4     5     CE  JAYESH     90          30         0\n",
      "0     1     EC   RATAN    150          50         1\n",
      "1     2     CE   JATAN    270          90         1\n",
      "2     3     IT  KATHAN    285          95         1\n",
      "3     4     EC   NAYAN    195          65         1\n",
      "4     5     IT   RAMAN    165          55         1\n"
     ]
    }
   ],
   "source": [
    "alldata = pd.concat([file1data, file2data]) # merge\n",
    "print(alldata)"
   ]
  },
  {
   "cell_type": "code",
   "execution_count": 16,
   "metadata": {},
   "outputs": [
    {
     "data": {
      "image/png": "[encoded data removed]",
      "text/plain": [
       "<Figure size 432x288 with 1 Axes>"
      ]
     },
     "metadata": {
      "needs_background": "light"
     },
     "output_type": "display_data"
    }
   ],
   "source": [
    "name = list(alldata['NAME'])\n",
    "total = list(alldata['TOTAL'])\n",
    "\n",
    "plt.bar(name, total)\n",
    "plt.show()"
   ]
  },
  {
   "cell_type": "code",
   "execution_count": 21,
   "metadata": {},
   "outputs": [
    {
     "name": "stdout",
     "output_type": "stream",
     "text": [
      "   SRNO BRANCH    NAME  TOTAL  PERCENTAGE  PASSFAIL\n",
      "2     3     IT  KATHAN    285          95         1\n",
      "1     2     CE   JATAN    270          90         1\n",
      "2     3     IT  MAHESH    225          75         1\n",
      "0     1     CE  RAMESH    210          70         1\n",
      "3     4     EC   NAYAN    195          65         1\n",
      "3     4     IT  NARESH    180          60         1\n",
      "4     5     IT   RAMAN    165          55         1\n",
      "1     2     CE  SURESH    150          50         1\n",
      "0     1     EC   RATAN    150          50         1\n",
      "4     5     CE  JAYESH     90          30         0\n",
      "   SRNO BRANCH    NAME  TOTAL  PERCENTAGE  PASSFAIL\n",
      "2     3     IT  KATHAN    285          95         1\n",
      "1     2     CE   JATAN    270          90         1\n",
      "2     3     IT  MAHESH    225          75         1\n",
      "   SRNO BRANCH    NAME  TOTAL  PERCENTAGE  PASSFAIL\n",
      "1     2     CE  SURESH    150          50         1\n",
      "0     1     EC   RATAN    150          50         1\n",
      "4     5     CE  JAYESH     90          30         0\n"
     ]
    }
   ],
   "source": [
    "print(alldata.sort_values(['TOTAL'], ascending=False)) # Descendind order\n",
    "print(alldata.sort_values(['TOTAL'], ascending=False).head(3)) # First 3\n",
    "print(alldata.sort_values(['TOTAL'], ascending=False).tail(3)) # Last 3"
   ]
  },
  {
   "cell_type": "markdown",
   "metadata": {},
   "source": [
    "<h1><center>API to CSV"
   ]
  },
  {
   "cell_type": "code",
   "execution_count": 22,
   "metadata": {},
   "outputs": [
    {
     "name": "stdout",
     "output_type": "stream",
     "text": [
      "    dailyconfirmed dailydeceased dailyrecovered             date     dateymd  \\\n",
      "0                1             0              0  30 January 2020  2020-01-30   \n",
      "1                0             0              0  31 January 2020  2020-01-31   \n",
      "2                0             0              0  1 February 2020  2020-02-01   \n",
      "3                1             0              0  2 February 2020  2020-02-02   \n",
      "4                1             0              0  3 February 2020  2020-02-03   \n",
      "..             ...           ...            ...              ...         ...   \n",
      "560          40081           583          42156   12 August 2021  2021-08-12   \n",
      "561          38761           477          35759   13 August 2021  2021-08-13   \n",
      "562          36135           491          37936   14 August 2021  2021-08-14   \n",
      "563          33245           421          35936   15 August 2021  2021-08-15   \n",
      "564          24692           438          36862   16 August 2021  2021-08-16   \n",
      "\n",
      "    totalconfirmed totaldeceased totalrecovered  \n",
      "0                1             0              0  \n",
      "1                1             0              0  \n",
      "2                1             0              0  \n",
      "3                2             0              0  \n",
      "4                3             0              0  \n",
      "..             ...           ...            ...  \n",
      "560       32116848        429695       31294596  \n",
      "561       32155609        430172       31330355  \n",
      "562       32191744        430663       31368291  \n",
      "563       32224989        431084       31404227  \n",
      "564       32249681        431522       31441089  \n",
      "\n",
      "[565 rows x 8 columns]\n"
     ]
    }
   ],
   "source": [
    "import pandas as pd \n",
    "import requests\n",
    "\n",
    "url = requests.get(\"https://data.covid19india.org/data.json\")\n",
    "mydata = url.json()\n",
    "\n",
    "df = pd.DataFrame(mydata['cases_time_series'])\n",
    "print(df)\n",
    "df.to_csv('covid19.csv')"
   ]
  }
 ],
 "metadata": {
  "kernelspec": {
   "display_name": "Python 3",
   "language": "python",
   "name": "python3"
  },
  "language_info": {
   "codemirror_mode": {
    "name": "ipython",
    "version": 3
   },
   "file_extension": ".py",
   "mimetype": "text/x-python",
   "name": "python",
   "nbconvert_exporter": "python",
   "pygments_lexer": "ipython3",
   "version": "3.10.4"
  },
  "orig_nbformat": 4
 },
 "nbformat": 4,
 "nbformat_minor": 2
}
