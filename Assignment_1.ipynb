{
 "cells": [
  {
   "cell_type": "markdown",
   "metadata": {},
   "source": [
    "**2 August 2023**"
   ]
  },
  {
   "cell_type": "markdown",
   "metadata": {},
   "source": [
    "<h2> INSHORTS NEWS API </h2>"
   ]
  },
  {
   "cell_type": "markdown",
   "metadata": {},
   "source": [
    "API :: https://inshortsapi.vercel.app/news?category=all\n",
    "1) How many main keys are there in this API? Extract and print all keys.\n",
    "2) How many news are available in this API?\n",
    "3) Print all news in bellow format.\n",
    "1. News content , Author: AUTHOR NAME, DATE: Date of news\n",
    "2. News content , Author: AUTHOR NAME, DATE: Date of news\n",
    "3. News content , Author: AUTHOR NAME, DATE: Date of news ."
   ]
  },
  {
   "cell_type": "code",
   "execution_count": 3,
   "metadata": {},
   "outputs": [
    {
     "name": "stdout",
     "output_type": "stream",
     "text": [
      "category\n",
      "data\n",
      "success\n",
      "Total main keys are:  3\n"
     ]
    }
   ],
   "source": [
    "# print all the keys\n",
    "\n",
    "import requests\n",
    "\n",
    "url = requests.get(\"https://inshortsapi.vercel.app/news?category=all\")\n",
    "mydata = url.json()\n",
    "\n",
    "count = 0\n",
    "for i in mydata:\n",
    "    print(i)\n",
    "    count+=1\n",
    "    \n",
    "print('Total main keys are: ', count)"
   ]
  },
  {
   "cell_type": "code",
   "execution_count": 7,
   "metadata": {},
   "outputs": [
    {
     "name": "stdout",
     "output_type": "stream",
     "text": [
      "Total Count = 25\n",
      "News content: After VHP said it'll hold rallies at 23 sites in Delhi to protest the violence in Nuh, the Supreme Court asked authorities to ensure there are no hate speeches against any community during the rallies. Refusing a stay on the rallies, SC asked authorities to ensure there's no violence, and to arrange adequate police presence and CCTV videos during rallies. , Author: Sakshita Khosla , Date: 02 Aug 2023,Wednesday\n",
      "News content: A goods train en route to Sambalpur from Talcher derailed in Odisha's Angul district after a boulder fell on it on Wednesday, PTI reported. A video surfaced online, showing officials working on track restoration. According to reports, the boulder fell on the goods train due to incessant rain in the state. Nobody was hurt in the incident, reports added.  , Author: Nakul Ahuja , Date: 02 Aug 2023,Wednesday\n",
      "News content: 'Lagaan' art director Nitin Desai, who died by suicide, had defaulted on ₹252-crore loan to its financial creditor, and a bankruptcy court had admitted an insolvency petition against his company last week, said PTI. Desai's company borrowed ₹185 crore and troubles with repayments started from January 2020. In an order passed by NCLT, the total default amount was ₹252.48 crore. , Author: Daisy Mowke , Date: 02 Aug 2023,Wednesday\n",
      "News content: The members of the Opposition bloc I.N.D.I.A. urged President Droupadi Murmu to nominate two women from two different communities in Manipur to the Rajya Sabha. The Opposition said this \"will help rectify 'grievous harm' inflicted on women of state\". The leaders met Murmu today and in a memorandum submitted to her requested her to intervene to establish peace in Manipur. , Author: Shalini Ojha , Date: 02 Aug 2023,Wednesday\n",
      "News content: Lok Sabha Speaker Om Birla did not come to the Speaker's seat today even as proceedings began after he expressed displeasure with the ruling BJP and the Opposition over the disruptions in the House. He told both sides that he would not come to the House until the MPs behaved according to the dignity of Lok Sabha, ANI reported.  , Author: Medhaa Gupta , Date: 02 Aug 2023,Wednesday\n",
      "News content: After a journalist paid $51.69 (over ₹4,200), including the driver's tip, for a 2.95-mile (around 5 km) trip in the US, Uber CEO Dara Khosrowshahi said, \"Oh my God. Wow.\" When questioned about the pricing strategy, Khosrowshahi attributed it to inflation and increased costs of time and labour. \"Everything is more expensive,\" he told the journalist. , Author: Ankush Verma , Date: 02 Aug 2023,Wednesday\n",
      "News content: A female cheetah named Dhatri was found dead at the Kuno National Park in Madhya Pradesh. A total of nine cheetahs have died in the national park since March this year after 20 cheetahs were brought from South Africa and Namibia. In July, the Supreme Court had sought a response from the Centre over the deaths. , Author: Deepika Bhatt , Date: 02 Aug 2023,Wednesday\n",
      "News content: Bajrang Dal member Monu Manesar has denied any link to the communal clashes in Haryana's Nuh, saying he neither gave any provocative speech nor attended the VHP procession which was allegedly attacked on Monday. It's believed clashes broke out over his announcement that he would attend the procession. Further, he blamed Congress MLA Mamman Khan for the incident.  , Author: Shalini Ojha , Date: 02 Aug 2023,Wednesday\n",
      "News content: Rapid Action Force conducted a flag march in Gurugram earlier today following incidents of violence witnessed in parts of Haryana. Earlier today, Haryana CM Manohar Lal Khattar said that 116 people have been arrested till now. Incidents of violence occurred in Haryana following communal clashes that broke out between two groups in Nuh killing six people. , Author: Subhangi Singh , Date: 02 Aug 2023,Wednesday\n",
      "News content: Rajya Sabha Chairman Jagdeep Dhankhar told the Opposition that he \"cannot and shall not\" issue a directive for PM Narendra Modi to be present in the House as it's the PM's prerogative to come to the House. Dhankhar added, \"I'll be violating my oath if I impart a directive for the presence of the PM. That has never been done.\" , Author: Ridham Gambhir , Date: 02 Aug 2023,Wednesday\n",
      "News content: The Income Tax department has served a tax notice of approximately ₹7 crore to a government teacher in MP who died ten years ago. The case came to the limelight when the family of Usha Soni filed a complaint. They were informed that Usha's PAN details were misused by a company in 2017-18 and the notice pertains to that transaction.\n",
      "\n",
      " , Author: Daisy Mowke , Date: 02 Aug 2023,Wednesday\n",
      "News content: The Directorate of Revenue Intelligence (DRI) recently searched the offices of Whirlpool of India in Gurugram and Puducherry as part of an inquiry into potential misclassification of HSN Code. The company said the issue \"is of limited financial materiality\". The misclassification of HSN Code is related to \"one of the components of a particular type of washing machine\". , Author: Ashley Paul , Date: 02 Aug 2023,Wednesday\n",
      "News content: Actor Suvinder Vicky has revealed that he used to sell insurance policies to people but it did not last long. \"I just couldn't concentrate on all the terms and conditions that you have to tell the customer, that the policy would mature after 12 years and they would get that much in return,\" the actor further said.  , Author: Ria Kapoor , Date: 02 Aug 2023,Wednesday\n",
      "News content: Several actors and filmmakers took to social media to condole the death of art director Nitin Desai, who died by suicide on Wednesday. \"I'm heartbroken...Why Nitin, why?\" filmmaker Vivek Agnihotri tweeted. \"Ambitious and a visionary...You'll be missed my friend,\" actor-filmmaker Riteish Deshmukh tweeted. \"Heartbreaking to hear about Nitin sir,\" Parineeti Chopra tweeted. , Author: Bhawana Chaudhary , Date: 02 Aug 2023,Wednesday\n",
      "News content: Filmmaker Karan Johar said that he showed 'Rocky Aur Rani Kii Prem Kahaani' to 500 people before the film's release. \"We made changes as per that. Nitin (editor) sat over the editing process for over six months with me. We kept changing it, trying to make it tighter, placing things differently so that it works narrative-wise,\" he added.  , Author: Ria Kapoor , Date: 02 Aug 2023,Wednesday\n",
      "News content: Hollywood actress Zendaya took to Instagram and penned a note for her 'Euphoria' co-star Angus Cloud, who was found dead aged 25 on Monday. \"Words aren't enough to describe the infinite beauty that is Angus...I'm so grateful I got the chance to...call him a brother,\" Zendaya wrote. She added that Angus was \"best\" at lighting up any room he entered. , Author: Bhawana Chaudhary , Date: 02 Aug 2023,Wednesday\n",
      "News content: Russia attacked Ukraine's grain ports on Wednesday, including an inland port across the Danube River from Romania. Condemning the drone attack, Ukraine's Defence Ministry said, \"Ukrainian grain has the potential to feed millions of people worldwide.\" Global grain prices reportedly soared after Wednesday's attack. Russia began targeting Ukraine's ports after pulling out of a UN-brokered grain deal. , Author: Athira Sasidharan , Date: 02 Aug 2023,Wednesday\n",
      "News content: Discussing his unbeaten 70 off 52 balls in India's third ODI against West Indies, India stand-in captain Hardik Pandya said, \"[I] had a wonderful chat with Virat Kohli a few days back. He had...great pointers.\" \"Kohli wanted me to spend some time on the crease. That...stayed in my mind,\" he added. Hardik's knock comprised four fours and five sixes. , Author: Arnab Mukherji  , Date: 02 Aug 2023,Wednesday\n",
      "News content: Ahead of Supreme Court's hearing on the abrogation of Article 370 in Jammu and Kashmir on Wednesday, former CM Omar Abdullah said he is hopeful of getting justice. \"On the behalf of the people of Jammu and Kashmir, we've...[approached the Supreme Court] in a hope to prove that what happened on August 5, 2019 was unconstitutional and illegal,\" he added. , Author: Nidhi Sinha , Date: 02 Aug 2023,Wednesday\n",
      "News content: After BJD and YSRCP said that they'll support Delhi services bill, AAP leader Raghav Chadha said that the people who will support this bill will be remembered in history as \"anti-national\". \"Kuch to majburiya rahi hogi, yuhin koi bewafa nai hota (There must have been some compulsion, people don't turn unfaithful for no reason),\" he added citing popular poetry. , Author: Medhaa Gupta , Date: 02 Aug 2023,Wednesday\n",
      "News content: Telangana CM K Chandrashekar Rao (KCR), who's the chief of political party BRS, said his party is neither with the BJP-led NDA nor with the Opposition bloc INDIA. \"We aren't alone...We have got friends as well,\" he stated. Criticising the Congress-led alliance, he said they had been in power before the BJP and \"failed to bring any change\". , Author: Nidhi Sinha , Date: 02 Aug 2023,Wednesday\n",
      "News content: Karnataka Congress General Secretary Sanket Yenagi said hiking price of Nandini milk products by ₹3/litre was \"necessitated to support farmers and milk producers\". \"The hike has been made to give support price to farmers...We're not diverting the funds,\" Yenagi said. This comes after Andhra Pradesh's Tirumala Tirupati Devasthanams stopped using Nandini ghee for making laddoos amid the price hike. , Author: Ashley Paul , Date: 02 Aug 2023,Wednesday\n",
      "News content: PayU is looking to list in India sometime next year at a valuation of $6-6.5 billion and is expected to come out with its IPO prospectus by 2023-end or early 2024, Moneycontrol reported. PayU had appointed Nykaa ex-CFO Arvind Agarwal as its CFO in 2022 to prepare itself for its IPO journey, a senior PayU executive said requesting anonymity. , Author: Ashley Paul , Date: 02 Aug 2023,Wednesday\n",
      "News content: Around 20,000 visitors are reportedly visiting a zoo in China on a daily basis after reports surfaced that the Malaysian sun bears kept there were humans dressed in costumes. \"After seeing [a] bear standing up on the internet, I wanted to see how it looks in real life,\" a visitor said. The zoo officials have denied the claim. , Author: Disha Jana , Date: 02 Aug 2023,Wednesday\n",
      "News content: Adani Group-owned Ambuja Cement has reached a deal to acquire a majority stake in operations of Sanghi Industries, Reuters reported. The deal, which reportedly values Sanghi's enterprise value at ₹6,000 crore, is likely to be announced on Wednesday. Adani became India's second-largest cement producer in 2022 with the acquisition of Ambuja Cements and its subsidiary ACC from Holcim. , Author: Ashley Paul , Date: 02 Aug 2023,Wednesday\n"
     ]
    }
   ],
   "source": [
    "# print all news\n",
    "import requests\n",
    "\n",
    "url = requests.get(\"https://inshortsapi.vercel.app/news?category=all\")\n",
    "mydata = url.json()\n",
    "\n",
    "count=0\n",
    "for j in range(0, len(mydata[\"data\"])):\n",
    "    count = count + 1\n",
    "    \n",
    "print(\"Total Count =\",count)\n",
    "\n",
    "for i in range(0, len(mydata[\"data\"])):\n",
    "    print(\"News content:\", mydata[\"data\"][i][\"content\"], \n",
    "          \", Author:\", mydata[\"data\"][i][\"author\"], \n",
    "          \", Date:\", mydata[\"data\"][i][\"date\"])"
   ]
  },
  {
   "cell_type": "markdown",
   "metadata": {},
   "source": [
    "<h2> ISRO SPACE CRAFTS API </h2>"
   ]
  },
  {
   "cell_type": "markdown",
   "metadata": {},
   "source": [
    "API :: https://isro.vercel.app/api/spacecrafts\n",
    "1) Print all main keys and total number of main keys as well.\n",
    "2) Print all spacecrafts names as per below output format\n",
    "3) Allow user to enter name of spacecraft. Print spacecraft is found or spacecraft not found"
   ]
  },
  {
   "cell_type": "code",
   "execution_count": 8,
   "metadata": {},
   "outputs": [
    {
     "name": "stdout",
     "output_type": "stream",
     "text": [
      "spacecrafts\n",
      "Total main keys are:  1\n"
     ]
    }
   ],
   "source": [
    "# Print all the keys\n",
    "\n",
    "import requests\n",
    "\n",
    "url = requests.get(\"https://isro.vercel.app/api/spacecrafts\")\n",
    "mydata = url.json()\n",
    "\n",
    "count = 0\n",
    "for i in mydata:\n",
    "    print(i)\n",
    "    count+=1\n",
    "    \n",
    "print('Total main keys are: ', count)"
   ]
  },
  {
   "cell_type": "code",
   "execution_count": 9,
   "metadata": {},
   "outputs": [
    {
     "name": "stdout",
     "output_type": "stream",
     "text": [
      "1 : Aryabhata\n",
      "2 : Bhaskara-I\n",
      "3 : Rohini Technology Payload (RTP)\n",
      "4 : Rohini Satellite RS-1\n",
      "5 : Rohini Satellite RS-D1\n",
      "6 : APPLE\n",
      "7 : Bhaskara-II\n",
      "8 : INSAT-1A\n",
      "9 : Rohini Satellite RS-D2\n",
      "10 : INSAT-1B\n",
      "11 : SROSS-1\n",
      "12 : IRS-1A\n",
      "13 : SROSS-2\n",
      "14 : INSAT-1C\n",
      "15 : INSAT-1D\n",
      "16 : IRS-1B\n",
      "17 : SROSS-C\n",
      "18 : INSAT-2A\n",
      "19 : INSAT-2B\n",
      "20 : IRS-1E\n",
      "21 : SROSS-C2\n",
      "22 : IRS-P2\n",
      "23 : INSAT-2C\n",
      "24 : IRS-1C\n",
      "25 : IRS-P3\n",
      "26 : INSAT-2D\n",
      "27 : IRS-1D\n",
      "28 : INSAT-2E\n",
      "29 : Oceansat(IRS-P4)\n",
      "30 : INSAT-3B\n",
      "31 : GSAT-1\n",
      "32 : The Technology Experiment Satellite (TES)\n",
      "33 : INSAT-3C\n",
      "34 : KALPANA-1\n",
      "35 : INSAT-3A\n",
      "36 : GSAT-2\n",
      "37 : INSAT-3E\n",
      "38 : IRS-P6 / RESOURCESAT-1\n",
      "39 : EDUSAT\n",
      "40 : HAMSAT\n",
      "41 : CARTOSAT-1\n",
      "42 : INSAT-4A\n",
      "43 : INSAT-4C\n",
      "44 : SRE-1\n",
      "45 : CARTOSAT-2\n",
      "46 : INSAT-4B\n",
      "47 : INSAT-4CR\n",
      "48 : CARTOSAT – 2A\n",
      "49 : IMS-1\n",
      "50 : Chandrayaan-1\n",
      "51 : RISAT-2\n",
      "52 : Oceansat-2\n",
      "53 : GSAT-4\n",
      "54 : CARTOSAT-2B\n",
      "55 : GSAT-5P\n",
      "56 : YOUTHSAT\n",
      "57 : RESOURCESAT-2\n",
      "58 : GSAT-8\n",
      "59 : GSAT-12\n",
      "60 : Megha-Tropiques\n",
      "61 : RISAT-1\n",
      "62 : GSAT-10\n",
      "63 : SARAL\n",
      "64 : IRNSS-1A\n",
      "65 : INSAT-3D\n",
      "66 : GSAT-7\n",
      "67 : Mars Orbiter Mission Spacecraft\n",
      "68 : GSAT-14\n",
      "69 : IRNSS-1B\n",
      "70 : IRNSS-1C\n",
      "71 : GSAT-16\n",
      "72 : Crew module Atmospheric Re-entry Experiment (CARE)\n",
      "73 : IRNSS-1D\n",
      "74 : GSAT-6\n",
      "75 : Astrosat\n",
      "76 : GSAT-15\n",
      "77 : IRNSS-1E\n",
      "78 : IRNSS-1F\n",
      "79 : IRNSS-1G\n",
      "80 : CARTOSAT-2 Series Satellite\n",
      "81 : INSAT-3DR\n",
      "82 : SCATSAT-1\n",
      "83 : GSAT-18\n",
      "84 : RESOURCESAT-2A\n",
      "85 : INS-1B\n",
      "86 : INS-1A\n",
      "87 : Cartosat -2 Series Satellite\n",
      "88 : GSAT-9\n",
      "89 : GSAT-19\n",
      "90 : Cartosat-2 Series Satellite\n",
      "91 : GSAT-17\n",
      "92 : IRNSS-1H\n",
      "93 : INS-1C\n",
      "94 : Cartosat-2 Series Satellite\n",
      "95 : Microsat\n",
      "96 : GSAT-6A\n",
      "97 : IRNSS-1I\n",
      "98 : GSAT-29\n",
      "99 : HysIS\n",
      "100 : GSAT-11 Mission\n",
      "101 : GSAT-7A\n",
      "102 : Microsat-R\n",
      "103 : GSAT-31\n",
      "104 : EMISAT\n",
      "105 : RISAT-2B\n",
      "106 : Chandrayaan2\n",
      "107 : Cartosat-3\n",
      "108 : RISAT-2BR1\n",
      "109 : GSAT-30\n",
      "110 : EOS-01\n",
      "111 : CMS-01\n",
      "112 : EOS-03\n"
     ]
    }
   ],
   "source": [
    "# Print all spacecarft names\n",
    "\n",
    "import requests\n",
    "\n",
    "url = requests.get(\"https://isro.vercel.app/api/spacecrafts\")\n",
    "mydata = url.json()\n",
    "\n",
    "for i in range(0, len(mydata[\"spacecrafts\"])):\n",
    "    print(mydata[\"spacecrafts\"][i][\"id\"], \":\", mydata[\"spacecrafts\"][i][\"name\"])"
   ]
  },
  {
   "cell_type": "code",
   "execution_count": 43,
   "metadata": {},
   "outputs": [
    {
     "name": "stdout",
     "output_type": "stream",
     "text": [
      "Spacecraft found -  39 : EDUSAT\n"
     ]
    }
   ],
   "source": [
    "#Allow user to enter name of spacecraft. Print spacecraft is found or spacecraft not found\n",
    "\n",
    "import requests\n",
    "\n",
    "url = requests.get(\"https://isro.vercel.app/api/spacecrafts\")\n",
    "mydata = url.json()\n",
    "\n",
    "Uname = input(\"Enter spacecraft name: \")\n",
    "\n",
    "for i in range(0, len(mydata[\"spacecrafts\"])):\n",
    "    if Uname == mydata[\"spacecrafts\"][i][\"name\"]:\n",
    "        print(\"Spacecraft found - \", str(mydata[\"spacecrafts\"][i][\"id\"]), \":\", mydata[\"spacecrafts\"][i][\"name\"])\n",
    "        break\n",
    "else:\n",
    "    print(str(Uname), '- Spacecraft not found\"')"
   ]
  },
  {
   "cell_type": "markdown",
   "metadata": {},
   "source": [
    "<h2> ISRO CUSTOMER API </h2>"
   ]
  },
  {
   "cell_type": "markdown",
   "metadata": {},
   "source": [
    "API:: https://isro.vercel.app/api/customer_satellites\n",
    "- TRY TO GENERATE PIE CHART INDICATING PERCENTAGE OF ISRO’S OWN SPACECRAFTS VS CUSTOMERSATELLITES FROM ABOVE API(s) FOR ANALYSIS OF DOMESTIC VS FOREIGN CUSTOMER INVOLVEMENT."
   ]
  },
  {
   "cell_type": "code",
   "execution_count": 33,
   "metadata": {},
   "outputs": [
    {
     "name": "stdout",
     "output_type": "stream",
     "text": [
      "Domestic: 112\n",
      "Foreign customer: 53\n"
     ]
    },
    {
     "data": {
      "image/png": "[encoded data removed]",
      "text/plain": [
       "<Figure size 432x288 with 1 Axes>"
      ]
     },
     "metadata": {},
     "output_type": "display_data"
    }
   ],
   "source": [
    "import requests\n",
    "import numpy as np\n",
    "from matplotlib import pyplot as plt\n",
    "\n",
    "url = requests.get(\"https://isro.vercel.app/api/spacecrafts\")\n",
    "mydata = url.json()\n",
    "\n",
    "url = requests.get(\"https://isro.vercel.app/api/customer_satellites\")\n",
    "data = url.json()\n",
    "\n",
    "count = len(mydata[\"spacecrafts\"])\n",
    "print(\"Domestic:\", count)\n",
    "\n",
    "num = len(data[\"customer_satellites\"])\n",
    "print(\"Foreign customer:\", num)\n",
    "\n",
    "y = np.array([count, num])\n",
    "mylabels = [\"Domestic\", \"Foreign customer\"]\n",
    "\n",
    "plt.pie(y, labels = mylabels, autopct='%1.0f%%')\n",
    "plt.show()"
   ]
  },
  {
   "cell_type": "markdown",
   "metadata": {},
   "source": [
    "<h2> CONCEPT OF DYNAMIC API </h2>"
   ]
  },
  {
   "cell_type": "markdown",
   "metadata": {},
   "source": [
    "API: https://api.postalpincode.in/pincode/380001\n",
    "- ALLOW USER TO INSERT PINCODE\n",
    "- PRINT NAME OF ALL AREAS WHICH COMES UNDER THAT PINCODE\n",
    "- PINCODE ENTERED BY USER SHELL BE MERGED IN BELOW URL’S XXXXXX PART.\n",
    "- URL: https://api.postalpincode.in/pincode/XXXXXX"
   ]
  },
  {
   "cell_type": "code",
   "execution_count": 20,
   "metadata": {},
   "outputs": [
    {
     "name": "stdout",
     "output_type": "stream",
     "text": [
      "380001 - Ahmedabad \n"
     ]
    }
   ],
   "source": [
    "import requests\n",
    "\n",
    "url = requests.get(f\"https://api.postalpincode.in/pincode/{pincode}\")\n",
    "mydata = url.json()\n",
    "\n",
    "pincode = input()\n",
    "areas = mydata[0][\"PostOffice\"][0][\"Name\"]\n",
    "print(pincode + ' - ' + areas)"
   ]
  },
  {
   "cell_type": "code",
   "execution_count": 22,
   "metadata": {},
   "outputs": [
    {
     "name": "stdout",
     "output_type": "stream",
     "text": [
      "Pincode: 360001\n",
      "URL: https://api.postalpincode.in/pincode/360001\n",
      "Rajkot\n",
      "Rajkot City\n",
      "Rajkot Collectorate\n",
      "Rajkot D H College\n",
      "Rajkot Jairaj Plot\n",
      "Rajkot Jn. Plot\n",
      "Rajkot Kalavad Road\n",
      "Rajkot Mandvi Chowk\n",
      "Rajkot Mochi Bazar\n",
      "Rajkot Municipal Corporation\n",
      "Rajkot New Jagnath Plot\n",
      "Rajkot Parsi Agiyari Chowk\n",
      "Rajkot Popatpara\n",
      "Rajkot Race Course Road\n"
     ]
    }
   ],
   "source": [
    "import requests\n",
    "\n",
    "url = requests.get(\"https://api.postalpincode.in/pincode/\"+pincode)\n",
    "data = url.json()\n",
    "\n",
    "pincode = input(\"Enter Pincode: \")\n",
    "\n",
    "print(\"Pincode: \" + pincode)\n",
    "print(\"URL: https://api.postalpincode.in/pincode/\"+pincode)\n",
    "\n",
    "for i in range(len(data[0][\"PostOffice\"])):\n",
    "    if pincode == data[0][\"PostOffice\"][i][\"Pincode\"]:\n",
    "        print(data[0][\"PostOffice\"][i][\"Name\"])"
   ]
  }
 ],
 "metadata": {
  "kernelspec": {
   "display_name": "drlnd",
   "language": "python",
   "name": "drlnd"
  },
  "language_info": {
   "codemirror_mode": {
    "name": "ipython",
    "version": 3
   },
   "file_extension": ".py",
   "mimetype": "text/x-python",
   "name": "python",
   "nbconvert_exporter": "python",
   "pygments_lexer": "ipython3",
   "version": "3.10.4"
  },
  "orig_nbformat": 4
 },
 "nbformat": 4,
 "nbformat_minor": 2
}
